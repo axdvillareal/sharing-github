{
 "cells": [
  {
   "cell_type": "markdown",
   "metadata": {},
   "source": [
    "Alfonso Villareal\n",
    "\n",
    "162118\n",
    "\n",
    "5 BS ITE"
   ]
  },
  {
   "cell_type": "code",
   "execution_count": 21,
   "metadata": {},
   "outputs": [
    {
     "name": "stdout",
     "output_type": "stream",
     "text": [
      "US Dollars: 5\n"
     ]
    },
    {
     "data": {
      "text/plain": [
       "'5 US dollar(s) = 250 Philippine Pesos.'"
      ]
     },
     "execution_count": 21,
     "metadata": {},
     "output_type": "execute_result"
    }
   ],
   "source": [
    "def dollarPesoConverter(dollars):\n",
    "    peso = (dollars * 50)\n",
    "    return str(dollars) + \" US dollar(s) = \" + str(peso) + \" Philippine Pesos.\"      \n",
    "            \n",
    "dollarPesoConverter(int(input(\"US Dollars: \")))"
   ]
  },
  {
   "cell_type": "code",
   "execution_count": 24,
   "metadata": {},
   "outputs": [
    {
     "name": "stdout",
     "output_type": "stream",
     "text": [
      "First integer: 128\n",
      "Second integer: 8\n",
      "136\n",
      "120\n",
      "1024\n",
      "16\n",
      "0\n"
     ]
    }
   ],
   "source": [
    "a = int(input(\"First integer: \"))\n",
    "b = int(input(\"Second integer: \"))\n",
    "print (a + b)\n",
    "print (a - b)\n",
    "print (a * b)\n",
    "print (a // b)\n",
    "print (a % b)"
   ]
  },
  {
   "cell_type": "code",
   "execution_count": 26,
   "metadata": {},
   "outputs": [
    {
     "name": "stdout",
     "output_type": "stream",
     "text": [
      "Enter kg 67\n",
      "Enter cm 178\n"
     ]
    },
    {
     "data": {
      "text/plain": [
       "'BMI: 21.146319909102385'"
      ]
     },
     "execution_count": 26,
     "metadata": {},
     "output_type": "execute_result"
    }
   ],
   "source": [
    "def compute_bmi (kg, m):\n",
    "    return (\"BMI: \" + str(kg/(m * m)))\n",
    "def convert_cm_to_m (cm):\n",
    "    return cm/100\n",
    "kg = float(input(\"Enter kg \"))\n",
    "cm = float(input(\"Enter cm \"))\n",
    "compute_bmi(kg, convert_cm_to_m(cm))"
   ]
  },
  {
   "cell_type": "code",
   "execution_count": null,
   "metadata": {},
   "outputs": [],
   "source": []
  }
 ],
 "metadata": {
  "kernelspec": {
   "display_name": "Python 3",
   "language": "python",
   "name": "python3"
  },
  "language_info": {
   "codemirror_mode": {
    "name": "ipython",
    "version": 3
   },
   "file_extension": ".py",
   "mimetype": "text/x-python",
   "name": "python",
   "nbconvert_exporter": "python",
   "pygments_lexer": "ipython3",
   "version": "3.8.5"
  }
 },
 "nbformat": 4,
 "nbformat_minor": 4
}

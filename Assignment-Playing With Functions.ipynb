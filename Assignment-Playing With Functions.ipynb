{
 "cells": [
  {
   "cell_type": "markdown",
   "metadata": {},
   "source": [
    "## Playing With Functions"
   ]
  },
  {
   "cell_type": "markdown",
   "metadata": {},
   "source": [
    "These exercises are designed to strengthen your grasp on basic programming concepts. Read what is required of you carefully. For example, instructions to **return** values are not the same as those of **printing**.\n",
    "\n",
    "Make sure that cells are in **script mode** (not **interactive mode**).\n"
   ]
  },
  {
   "cell_type": "markdown",
   "metadata": {},
   "source": [
    "# 1\n",
    "### 1 point\n",
    "\n",
    "Write a function that takes the circumference of a circle as a parameter and **returns** the area of that circle.\n",
    "\n",
    "Note: Assume the value of pi is 3.1416"
   ]
  },
  {
   "cell_type": "code",
   "execution_count": 34,
   "metadata": {},
   "outputs": [
    {
     "name": "stdout",
     "output_type": "stream",
     "text": [
      "Circumference: 5\n"
     ]
    },
    {
     "data": {
      "text/plain": [
       "1.9894321364909602"
      ]
     },
     "execution_count": 34,
     "metadata": {},
     "output_type": "execute_result"
    }
   ],
   "source": [
    "def areaReturn():\n",
    "    circumference = float(input(\"Circumference: \"))\n",
    "    radius = circumference / 3.1416 / 2\n",
    "    area = radius * radius * 3.1416\n",
    "    return area\n",
    "\n",
    "areaReturn()"
   ]
  },
  {
   "cell_type": "markdown",
   "metadata": {},
   "source": [
    "# 2\n",
    "### 2 points\n",
    "\n",
    "Write a function that takes a 5-character string as a parameter and **returns** the string in reverse order.\n",
    "\n",
    "e.g. reverseString(\"Hello\") -> \"olleH\""
   ]
  },
  {
   "cell_type": "code",
   "execution_count": 60,
   "metadata": {},
   "outputs": [
    {
     "name": "stdout",
     "output_type": "stream",
     "text": [
      "Write 5-character string: hey\n",
      "Invalid string.\n"
     ]
    }
   ],
   "source": [
    "def reverseString():\n",
    "    string = input(\"Write 5-character string: \")\n",
    "    if len(string) == 5:\n",
    "        stringList = list(string)\n",
    "        n = 0\n",
    "        reverseList = []\n",
    "        while n < 5:\n",
    "            reverseList.append(stringList[4-n])\n",
    "            n+=1\n",
    "        final = reverseList[0] + reverseList[1] + reverseList[2] + reverseList[3] + reverseList[4]\n",
    "        return final\n",
    "    else:\n",
    "        print (\"Invalid string.\")\n",
    "        \n",
    "reverseString()\n"
   ]
  },
  {
   "cell_type": "markdown",
   "metadata": {},
   "source": [
    "# 3\n",
    "### 2 points\n",
    "\n",
    "Write a function that takes a positive integer as input and **returns** the sum of all positive integers smaller than and including the number itself.\n",
    "\n",
    "e.g. backAddition(5) -> 1 + 2 + 3 + 4 + 5 -> 15"
   ]
  },
  {
   "cell_type": "code",
   "execution_count": 63,
   "metadata": {},
   "outputs": [
    {
     "name": "stdout",
     "output_type": "stream",
     "text": [
      "Input positive integer here: 5\n"
     ]
    },
    {
     "data": {
      "text/plain": [
       "15"
      ]
     },
     "execution_count": 63,
     "metadata": {},
     "output_type": "execute_result"
    }
   ],
   "source": [
    "def backAddition(num):\n",
    "    x = 1\n",
    "    sum = 0\n",
    "    while x <= num:\n",
    "        sum += x\n",
    "        x += 1\n",
    "    return sum\n",
    "num = int(input(\"Input positive integer here: \"))\n",
    "backAddition(num)"
   ]
  },
  {
   "cell_type": "markdown",
   "metadata": {},
   "source": [
    "# 4\n",
    "### 5 points (all or nothing)\n",
    "\n",
    "The sum of the squares of the first ten natural numbers is,\n",
    "12 + 22 + ... + 102 = 385\n",
    "\n",
    "The square of the sum of the first ten natural numbers is,\n",
    "(1 + 2 + ... + 10)2 = 552 = 3025\n",
    "\n",
    "Hence the difference between the sum of the squares of the first ten natural numbers and the square of the sum is 3025 − 385 = 2640.\n",
    "\n",
    "Find the difference between the sum of the squares of the first one hundred natural numbers and the square of the sum.\n",
    "\n",
    "Show code that generates the answer."
   ]
  },
  {
   "cell_type": "code",
   "execution_count": 73,
   "metadata": {},
   "outputs": [
    {
     "name": "stdout",
     "output_type": "stream",
     "text": [
      "25164150\n"
     ]
    }
   ],
   "source": [
    "#sum of squares\n",
    "sumOfSquares = 0\n",
    "x = 1\n",
    "while x < 101:\n",
    "    sumOfSquares += x*x\n",
    "    x += 1\n",
    "##print (sumOfSquares)\n",
    "sum = 0\n",
    "squareOfSum = 0\n",
    "x = 1\n",
    "while x <101:\n",
    "    sum += x\n",
    "    x += 1\n",
    "squareOfSum = sum * sum\n",
    "##print(squareOfSum)\n",
    "print (squareOfSum - sumOfSquares)"
   ]
  },
  {
   "cell_type": "markdown",
   "metadata": {},
   "source": [
    "# 5\n",
    "### 5 points \n",
    "\n",
    "Write a function that allows a self-service Point of Sale system to give you the exact change when you pay in cash.\n",
    "\n",
    "The function should accept the number of cents entered by the caller of the function. It then should **display** the denominations of the coins that should be given to the buyer. The change should use as few coins as possible. Assume that the Point of Sale system is loaded with 1 cent, 5 cents, 10 cents, 25 cents and 1 peso coins.\n",
    "\n",
    "Write main program code that accepts the number of cents manually through user input and calls the function written above.\n",
    "\n",
    "**Input:** The program accepts one positive integer, ***cents***, corresponding to the total change to be given by the Point of Sale system.\n",
    "\n",
    "**Output:** The number of 1 peso, 25 cents, 10 cents, 5 cents and 1 cent coins respectively. There should be one output per line.\n",
    "\n",
    "**Sample Input 1:**  \n",
    "105\n",
    "\n",
    "**Sample Output 1**  \n",
    "1  \n",
    "0  \n",
    "0  \n",
    "1  \n",
    "0  \n",
    "\n",
    "**Sample Input 2:**  \n",
    "69  \n",
    "\n",
    "**Sample Output 2:**  \n",
    "0  \n",
    "2  \n",
    "1  \n",
    "1  \n",
    "4  \n",
    "\n",
    "\n"
   ]
  },
  {
   "cell_type": "code",
   "execution_count": 75,
   "metadata": {},
   "outputs": [
    {
     "name": "stdout",
     "output_type": "stream",
     "text": [
      "Number of cents: 299\n",
      "2\n",
      "3\n",
      "2\n",
      "0\n",
      "4\n"
     ]
    }
   ],
   "source": [
    "def exactChange(cents):\n",
    "    peso = 0\n",
    "    quarter = 0\n",
    "    dime = 0\n",
    "    nickel = 0\n",
    "    penny = 0\n",
    "    while cents >= 100:\n",
    "        cents -= 100\n",
    "        peso += 1\n",
    "    while cents >= 25:\n",
    "        cents -= 25\n",
    "        quarter += 1\n",
    "    while cents >= 10:\n",
    "        cents -= 10\n",
    "        dime += 1\n",
    "    while cents >= 5:\n",
    "        cents -= 5\n",
    "        nickel += 1\n",
    "    while cents >= 1:\n",
    "        cents -= 1\n",
    "        penny += 1\n",
    "    print(peso)\n",
    "    print(quarter)\n",
    "    print(dime)\n",
    "    print(nickel)\n",
    "    print(penny)\n",
    "cents = int(input(\"Number of cents: \"))\n",
    "exactChange(cents)"
   ]
  }
 ],
 "metadata": {
  "kernelspec": {
   "display_name": "Python 3",
   "language": "python",
   "name": "python3"
  },
  "language_info": {
   "codemirror_mode": {
    "name": "ipython",
    "version": 3
   },
   "file_extension": ".py",
   "mimetype": "text/x-python",
   "name": "python",
   "nbconvert_exporter": "python",
   "pygments_lexer": "ipython3",
   "version": "3.8.5"
  }
 },
 "nbformat": 4,
 "nbformat_minor": 2
}
